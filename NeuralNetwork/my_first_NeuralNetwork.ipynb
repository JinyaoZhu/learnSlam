{
 "cells": [
  {
   "cell_type": "code",
   "execution_count": 1,
   "metadata": {
    "scrolled": true
   },
   "outputs": [
    {
     "name": "stdout",
     "output_type": "stream",
     "text": [
      "Interactive namespace is empty.\n"
     ]
    }
   ],
   "source": [
    "whos"
   ]
  },
  {
   "cell_type": "code",
   "execution_count": 105,
   "metadata": {},
   "outputs": [
    {
     "name": "stdout",
     "output_type": "stream",
     "text": [
      "Trainning finish!\n"
     ]
    }
   ],
   "source": [
    "class neuralNetwork:\n",
    "    def __init__(self,inputnodes,hiddennodes,outputnodes,num_of_hidden_layers,learningrate):\n",
    "        self.inodes = inputnodes\n",
    "        self.hnodes = hiddennodes\n",
    "        self.onodes = outputnodes\n",
    "        self.num_of_hidden_layers = num_of_hidden_layers\n",
    "        self.lr = learningrate\n",
    "        \n",
    "        self.wh = []\n",
    "        \n",
    "        for n in range(0,self.num_of_hidden_layers+1):\n",
    "            if n==0:\n",
    "                self.wh.append((numpy.random.rand(self.hnodes,self.inodes)-0.5))\n",
    "            elif n == self.num_of_hidden_layers:\n",
    "                self.wh.append((numpy.random.rand(self.onodes,self.hnodes)-0.5))\n",
    "            else:\n",
    "                self.wh.append((numpy.random.rand(self.hnodes,self.hnodes)-0.5))\n",
    "            \n",
    "        \n",
    "        self.activation_function = lambda x:scipy.special.expit(x)\n",
    "    \n",
    "\n",
    "    def train(self,inputs_list,targets_list):\n",
    "        \n",
    "        inputs = numpy.array(inputs_list,ndmin=2).T\n",
    "        targets = numpy.array(targets_list,ndmin=2).T\n",
    "        hidden_inputs = inputs\n",
    "        \n",
    "        layers_outputs = []\n",
    "        layers_outputs.append(inputs)\n",
    "        \n",
    "        for n in range(0,self.num_of_hidden_layers+1):\n",
    "            hidden_inputs = numpy.dot(self.wh[n],hidden_inputs)\n",
    "            hidden_outputs = self.activation_function(hidden_inputs)\n",
    "            hidden_inputs = hidden_outputs\n",
    "            layers_outputs.append(hidden_outputs)\n",
    "        \n",
    "        hidden_errors = targets - layers_outputs[self.num_of_hidden_layers+1]\n",
    "        \n",
    "        for n in range(self.num_of_hidden_layers,-1,-1):\n",
    "            self.wh[n] += self.lr*numpy.dot(hidden_errors*layers_outputs[n+1]*(1.0-layers_outputs[n+1]),numpy.transpose(layers_outputs[n]))\n",
    "            hidden_errors = numpy.dot(self.wh[n].T,hidden_errors)\n",
    "            \n",
    "        #self.output_errors = output_errors\n",
    "        #print(output_errors)\n",
    "        #return output_errors\n",
    "    \n",
    "    def query(self,inputs_list):\n",
    "        inputs = numpy.array(inputs_list,ndmin=2).T\n",
    "        hidden_inputs = inputs\n",
    "        \n",
    "        for n in range(0,self.num_of_hidden_layers+1):\n",
    "            hidden_inputs = numpy.dot(self.wh[n],hidden_inputs)\n",
    "            hidden_outputs = self.activation_function(hidden_inputs)\n",
    "            hidden_inputs = hidden_outputs\n",
    "            \n",
    "        return hidden_outputs\n",
    "\n",
    "import numpy\n",
    "import scipy.special\n",
    "import matplotlib.pyplot\n",
    "%matplotlib inline\n",
    "\n",
    "input_nodes = 784\n",
    "output_nodes = 10\n",
    "\n",
    "hidden_nodes = 100\n",
    "num_hidden_layers = 3\n",
    "learning_rate = 0.005\n",
    "epoch = 10\n",
    "\n",
    "nn = neuralNetwork(input_nodes,hidden_nodes,output_nodes,num_hidden_layers,learning_rate)\n",
    "\n",
    "train_data_file = open(\"/home/jinyao/Downloads/mnist_train.csv\",'r')\n",
    "train_data_list = train_data_file.readlines()\n",
    "train_data_file.close()\n",
    "\n",
    "for n in range(0,epoch):\n",
    "    for record in train_data_list:\n",
    "        all_values = record.split(',')\n",
    "        inputs = (numpy.asfarray(all_values[1:])/255.0*0.99)+0.01\n",
    "        targets = numpy.zeros(output_nodes) + 0.01\n",
    "        targets[int(all_values[0])]=0.99\n",
    "        nn.train(inputs,targets)\n",
    "\n",
    "print(\"Trainning finish!\")\n"
   ]
  },
  {
   "cell_type": "code",
   "execution_count": 106,
   "metadata": {},
   "outputs": [
    {
     "name": "stdout",
     "output_type": "stream",
     "text": [
      "performance =  0.9621\n"
     ]
    }
   ],
   "source": [
    "test_data_file = open(\"/home/jinyao/Downloads/mnist_test.csv\",'r')\n",
    "test_data_list = test_data_file.readlines()\n",
    "test_data_file.close()\n",
    "\n",
    "scorecard = []\n",
    "for record in test_data_list:\n",
    "    all_values = record.split(',')\n",
    "    correct_label = int(all_values[0])\n",
    "    #print(correct_label,\"correct label\")\n",
    "    inputs = (numpy.asfarray(all_values[1:])/255.0*0.99)+0.01\n",
    "    outputs = nn.query(inputs)\n",
    "    label = numpy.argmax(outputs)\n",
    "    #print(label,\"network's answer\")\n",
    "    if(label == correct_label):\n",
    "        scorecard.append(1)\n",
    "    else:\n",
    "        scorecard.append(0)\n",
    "\n",
    "scorecard_array = numpy.asarray(scorecard)\n",
    "print(\"performance = \",scorecard_array.sum()/scorecard_array.size)"
   ]
  },
  {
   "cell_type": "code",
   "execution_count": null,
   "metadata": {},
   "outputs": [],
   "source": []
  }
 ],
 "metadata": {
  "kernelspec": {
   "display_name": "Python 3",
   "language": "python",
   "name": "python3"
  },
  "language_info": {
   "codemirror_mode": {
    "name": "ipython",
    "version": 3
   },
   "file_extension": ".py",
   "mimetype": "text/x-python",
   "name": "python",
   "nbconvert_exporter": "python",
   "pygments_lexer": "ipython3",
   "version": "3.6.1"
  }
 },
 "nbformat": 4,
 "nbformat_minor": 2
}
